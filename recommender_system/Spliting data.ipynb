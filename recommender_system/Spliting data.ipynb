{
 "cells": [
  {
   "cell_type": "code",
   "execution_count": 1,
   "metadata": {},
   "outputs": [],
   "source": [
    "import os\n",
    "import pandas as pd"
   ]
  },
  {
   "cell_type": "code",
   "execution_count": 28,
   "metadata": {},
   "outputs": [],
   "source": [
    "files_folder = './data/out/vung2/'\n",
    "nums = [c for c in '0123456789']\n",
    "def split_file_name(file):\n",
    "    area = ''\n",
    "    for c in file:\n",
    "        if c in nums:\n",
    "            break\n",
    "        else:\n",
    "            area += c\n",
    "    return area"
   ]
  },
  {
   "cell_type": "code",
   "execution_count": 32,
   "metadata": {},
   "outputs": [],
   "source": [
    "areas = []\n",
    "jobs = []\n",
    "for file in os.listdir(files_folder):\n",
    "    areas.append(file.split('_')[0])\n",
    "    txt = eval(open(files_folder + file).read())\n",
    "    jobs.append(txt[0])"
   ]
  },
  {
   "cell_type": "code",
   "execution_count": 34,
   "metadata": {
    "scrolled": true
   },
   "outputs": [
    {
     "name": "stdout",
     "output_type": "stream",
     "text": [
      "['bacNinh' 'haNoi' 'haTinh' 'haiDuong' 'haiPhong' 'hungYen' 'namDinh'\n",
      " 'ngheAn' 'ninhBinh' 'quangNinh' 'thaiBinh' 'thanhHoa' 'vinhPhuc']\n"
     ]
    }
   ],
   "source": [
    "areas = np.array(areas)\n",
    "areas = np.unique(areas)\n",
    "print(areas)"
   ]
  },
  {
   "cell_type": "code",
   "execution_count": 13,
   "metadata": {},
   "outputs": [],
   "source": []
  },
  {
   "cell_type": "code",
   "execution_count": 14,
   "metadata": {},
   "outputs": [
    {
     "name": "stdout",
     "output_type": "stream",
     "text": [
      "bacGiang\n"
     ]
    }
   ],
   "source": [
    "print(split_file_name('bacGiang0.11646266321905252'))"
   ]
  },
  {
   "cell_type": "code",
   "execution_count": null,
   "metadata": {},
   "outputs": [],
   "source": []
  }
 ],
 "metadata": {
  "kernelspec": {
   "display_name": "Python 3",
   "language": "python",
   "name": "python3"
  },
  "language_info": {
   "codemirror_mode": {
    "name": "ipython",
    "version": 3
   },
   "file_extension": ".py",
   "mimetype": "text/x-python",
   "name": "python",
   "nbconvert_exporter": "python",
   "pygments_lexer": "ipython3",
   "version": "3.6.9"
  }
 },
 "nbformat": 4,
 "nbformat_minor": 2
}
