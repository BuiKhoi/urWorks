{
 "cells": [
  {
   "cell_type": "code",
   "execution_count": 1,
   "metadata": {},
   "outputs": [],
   "source": [
    "import os\n",
    "import numpy as np"
   ]
  },
  {
   "cell_type": "code",
   "execution_count": 2,
   "metadata": {},
   "outputs": [],
   "source": [
    "containing_folder = './data/out12345/'"
   ]
  },
  {
   "cell_type": "code",
   "execution_count": 41,
   "metadata": {},
   "outputs": [],
   "source": [
    "hiring_jobs = []\n",
    "hiring_areas = []\n",
    "\n",
    "for label_folder in os.listdir(containing_folder):\n",
    "    temp_area = []\n",
    "    label_path = containing_folder + label_folder + '/'\n",
    "    for file in os.listdir(label_path):\n",
    "        if '_label' in file:\n",
    "            with open(label_path + file, 'r') as label_file:\n",
    "                label = label_file.read().replace('\\n', '')\n",
    "                if label != '':\n",
    "                    hiring_jobs.append(label)\n",
    "                    temp_area.append(file.split('_')[0])\n",
    "    hiring_areas.append(temp_area)\n",
    "hiring_jobs = np.array(hiring_jobs)\n",
    "hiring_areas = np.array(hiring_areas)"
   ]
  },
  {
   "cell_type": "code",
   "execution_count": 42,
   "metadata": {},
   "outputs": [
    {
     "name": "stdout",
     "output_type": "stream",
     "text": [
      "ban_hang\n",
      "bao_ve\n",
      "bep\n",
      "cong_nhan\n",
      "giao_vien\n",
      "giup_viec\n",
      "huong_dan_vien_du_lich\n",
      "ke_toan\n",
      "ky_su\n",
      "lai_xe\n",
      "nhan_vien\n",
      "pha_che\n",
      "phien_dich\n",
      "phuc_vu\n",
      "quan_ly\n",
      "sale_online\n",
      "tho_lap_may\n",
      "tho_xay\n",
      "thoi_vu\n",
      "tro_ly\n",
      "y_te\n"
     ]
    }
   ],
   "source": [
    "ujob = np.unique(hiring_jobs)\n",
    "for j in ujob:\n",
    "    print(j)"
   ]
  },
  {
   "cell_type": "code",
   "execution_count": 12,
   "metadata": {},
   "outputs": [
    {
     "name": "stdout",
     "output_type": "stream",
     "text": [
      "{'ban_hang': 0, 'bao_ve': 1, 'bep': 2, 'cong_nhan': 3, 'giao_vien': 4, 'giup_viec': 5, 'huong_dan_vien_du_lich': 6, 'ke_toan': 7, 'ky_su': 8, 'lai_xe': 9, 'nhan_vien': 10, 'pha_che': 11, 'phien_dich': 12, 'phuc_vu': 13, 'quan_ly': 14, 'sale_online': 15, 'tho_lap_may': 16, 'tho_xay': 17, 'thoi_vu': 18, 'tro_ly': 19, 'y_te': 20}\n"
     ]
    }
   ],
   "source": [
    "label_dict = {}\n",
    "for idx, j in enumerate(ujob):\n",
    "    label_dict[j] = idx\n",
    "print(label_dict)"
   ]
  },
  {
   "cell_type": "code",
   "execution_count": 13,
   "metadata": {},
   "outputs": [],
   "source": [
    "finding_job_containing_folder = './data/finding_job/'"
   ]
  },
  {
   "cell_type": "code",
   "execution_count": null,
   "metadata": {},
   "outputs": [],
   "source": [
    "finding_jobs = []\n",
    "finding_areas = []\n",
    "\n",
    "for label_folder in os.listdir(containing_folder):\n",
    "    temp_area = []\n",
    "    label_path = containing_folder + label_folder + '/'\n",
    "    for file in os.listdir(label_path):\n",
    "        if '_label' in file:\n",
    "            input_array = [0] * len(ujob) + 1\n",
    "            with open(label_path + file, 'r') as label_file:\n",
    "                labels = label_file.read()\n",
    "                labels = labels.split('\\n')\n",
    "                for label in labels:\n",
    "                    if label != '':\n",
    "                        try:\n",
    "                            idx = label_dict[label]\n",
    "                            input_array[idx] = 1\n",
    "                        except Exception as e:\n",
    "                            print(e)\n",
    "                            input_array[-1] = int(label)\n",
    "                            \n",
    "                        finding_jobs.append(input_array)\n",
    "                        temp_area.append(file.split('_')[0])\n",
    "    finding_areas.append(temp_area)\n",
    "finding_jobs = np.array(finding_jobs)\n",
    "finding_areas = np.array(finding_areas)"
   ]
  },
  {
   "cell_type": "code",
   "execution_count": 43,
   "metadata": {},
   "outputs": [],
   "source": [
    "def get_hot_encode(job):\n",
    "    return label_dict[job]\n",
    "\n",
    "def one_hot_encode(jobs):\n",
    "    one_hot_array = np.zeros((len(jobs), len(ujob)+ 1), np.uint8)\n",
    "    \n",
    "    for idx, j in enumerate(jobs):\n",
    "        one_hot_array[idx][j] = 1\n",
    "        \n",
    "    return one_hot_array"
   ]
  },
  {
   "cell_type": "code",
   "execution_count": 44,
   "metadata": {},
   "outputs": [
    {
     "name": "stdout",
     "output_type": "stream",
     "text": [
      "[16  9 17 ... 13 18 18]\n"
     ]
    }
   ],
   "source": [
    "hiring_jobs = np.array([get_hot_encode(j) for j in hiring_jobs])\n",
    "print(hiring_jobs)"
   ]
  },
  {
   "cell_type": "code",
   "execution_count": 45,
   "metadata": {},
   "outputs": [
    {
     "name": "stdout",
     "output_type": "stream",
     "text": [
      "[[0 0 0 ... 0 0 0]\n",
      " [0 0 0 ... 0 0 0]\n",
      " [0 0 0 ... 0 0 0]\n",
      " ...\n",
      " [0 0 0 ... 0 0 0]\n",
      " [0 0 0 ... 0 0 0]\n",
      " [0 0 0 ... 0 0 0]]\n"
     ]
    }
   ],
   "source": [
    "hiring_jobs = one_hot_encode(hiring_jobs)\n",
    "print(hiring_jobs)"
   ]
  },
  {
   "cell_type": "code",
   "execution_count": 39,
   "metadata": {},
   "outputs": [
    {
     "data": {
      "text/plain": [
       "array([0, 0, 0, 0, 0, 0, 0, 0, 0, 0, 0, 0, 0, 0, 0, 0, 1, 0, 0, 0, 0],\n",
       "      dtype=uint8)"
      ]
     },
     "execution_count": 39,
     "metadata": {},
     "output_type": "execute_result"
    }
   ],
   "source": [
    "X_data = []\n",
    "y_true = []\n",
    "\n",
    "for hiring in hiring_jobs:\n",
    "    amax = np.argmax(hiring)\n",
    "    for finding in finding_jobs:\n",
    "        #Check this employee is good to hire and generate training label\n",
    "        if finding[amax] == 1:\n",
    "            y_true.append(1)\n",
    "        else: \n",
    "            y_true.append(0)\n",
    "        #Generate input data\n",
    "            temp_index = finding - hiring\n",
    "            X_data.append(temp_index)\n",
    "            \n",
    "X_data = np.array(X_data)\n",
    "y_true = np.array(y_true)"
   ]
  },
  {
   "cell_type": "code",
   "execution_count": 46,
   "metadata": {},
   "outputs": [],
   "source": [
    "import keras.backend as K\n",
    "from keras.optimizers import Adam\n",
    "from keras.losses import mean_squared_error\n",
    "from keras.layers import Dense, Input\n",
    "from keras.models import Model"
   ]
  },
  {
   "cell_type": "code",
   "execution_count": 52,
   "metadata": {},
   "outputs": [],
   "source": [
    "def build_recommender_model(input_shape = 21):\n",
    "    inpt = Input((21, ))\n",
    "    \n",
    "    dns1 = Dense(32, activation='relu')(inpt)\n",
    "    dns1 = Dense(64, activation='relu')(dns1)\n",
    "    dns1 = Dense(16, activation='relu')(dns1)\n",
    "    dns1 = Dense(1, activation='sigmoid')(dns1)\n",
    "    \n",
    "    return Model(inpt, dns1)"
   ]
  },
  {
   "cell_type": "code",
   "execution_count": 53,
   "metadata": {},
   "outputs": [],
   "source": [
    "train_model = build_recommender_model()"
   ]
  },
  {
   "cell_type": "code",
   "execution_count": 54,
   "metadata": {},
   "outputs": [
    {
     "name": "stdout",
     "output_type": "stream",
     "text": [
      "Model: \"model_2\"\n",
      "_________________________________________________________________\n",
      "Layer (type)                 Output Shape              Param #   \n",
      "=================================================================\n",
      "input_3 (InputLayer)         (None, 21)                0         \n",
      "_________________________________________________________________\n",
      "dense_2 (Dense)              (None, 32)                704       \n",
      "_________________________________________________________________\n",
      "dense_3 (Dense)              (None, 64)                2112      \n",
      "_________________________________________________________________\n",
      "dense_4 (Dense)              (None, 16)                1040      \n",
      "_________________________________________________________________\n",
      "dense_5 (Dense)              (None, 1)                 17        \n",
      "=================================================================\n",
      "Total params: 3,873\n",
      "Trainable params: 3,873\n",
      "Non-trainable params: 0\n",
      "_________________________________________________________________\n"
     ]
    }
   ],
   "source": [
    "train_model.summary()"
   ]
  },
  {
   "cell_type": "code",
   "execution_count": 55,
   "metadata": {},
   "outputs": [
    {
     "name": "stdout",
     "output_type": "stream",
     "text": [
      "WARNING:tensorflow:From /home/buikhoi/.local/lib/python3.6/site-packages/tensorflow/python/ops/nn_impl.py:180: add_dispatch_support.<locals>.wrapper (from tensorflow.python.ops.array_ops) is deprecated and will be removed in a future version.\n",
      "Instructions for updating:\n",
      "Use tf.where in 2.0, which has the same broadcast rule as np.where\n"
     ]
    }
   ],
   "source": [
    "train_model.compile(Adam(1e-4), loss='binary_crossentropy', metrics=['accuracy'])"
   ]
  },
  {
   "cell_type": "code",
   "execution_count": null,
   "metadata": {},
   "outputs": [],
   "source": [
    "#Split data\n",
    "from sklearn.model_selection import train_test_split\n",
    "X_train, X_test, y_train, y_test = train_test_split(X_data, y_true)"
   ]
  },
  {
   "cell_type": "code",
   "execution_count": null,
   "metadata": {},
   "outputs": [],
   "source": [
    "train_model.fit(X_train, y_train, batch_size=16, epochs=100, validation_data=[X_test, y_test])"
   ]
  },
  {
   "cell_type": "code",
   "execution_count": null,
   "metadata": {},
   "outputs": [],
   "source": [
    "train_model.save('./checkpoints/recommender.h5')"
   ]
  }
 ],
 "metadata": {
  "kernelspec": {
   "display_name": "Python 3",
   "language": "python",
   "name": "python3"
  },
  "language_info": {
   "codemirror_mode": {
    "name": "ipython",
    "version": 3
   },
   "file_extension": ".py",
   "mimetype": "text/x-python",
   "name": "python",
   "nbconvert_exporter": "python",
   "pygments_lexer": "ipython3",
   "version": "3.6.9"
  }
 },
 "nbformat": 4,
 "nbformat_minor": 2
}
