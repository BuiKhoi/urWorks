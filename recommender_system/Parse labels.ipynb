{
 "cells": [
  {
   "cell_type": "code",
   "execution_count": 1,
   "metadata": {},
   "outputs": [],
   "source": [
    "import os\n",
    "import numpy as np"
   ]
  },
  {
   "cell_type": "code",
   "execution_count": 2,
   "metadata": {},
   "outputs": [],
   "source": [
    "containing_folder = './data/out12345/'"
   ]
  },
  {
   "cell_type": "code",
   "execution_count": 3,
   "metadata": {},
   "outputs": [],
   "source": [
    "jobs = []\n",
    "areas = []\n",
    "\n",
    "for label_folder in os.listdir(containing_folder):\n",
    "    temp_area = []\n",
    "    label_path = containing_folder + label_folder + '/'\n",
    "    for file in os.listdir(label_path):\n",
    "        if '_label' in file:\n",
    "            with open(label_path + file, 'r') as label_file:\n",
    "                label = label_file.read().replace('\\n', '')\n",
    "                if label != '':\n",
    "                    jobs.append(label)\n",
    "                    temp_area.append(file.split('_')[0])\n",
    "    areas.append(temp_area)\n",
    "jobs = np.array(jobs)\n",
    "areas = np.array(areas)"
   ]
  },
  {
   "cell_type": "code",
   "execution_count": 4,
   "metadata": {},
   "outputs": [
    {
     "name": "stdout",
     "output_type": "stream",
     "text": [
      "[array(['bacGiang', 'bacKan', 'caoBang', 'dienBien', 'haGiang', 'hoaBinh',\n",
      "       'laiChau', 'langSon', 'laoCai', 'phuTho', 'sonLa', 'thaiNguyen',\n",
      "       'tuyenQuang', 'yenBai'], dtype='<U10')\n",
      " array(['bacNinh', 'haNoi', 'haTinh', 'haiDuong', 'haiPhong', 'hungYen',\n",
      "       'namDinh', 'ngheAn', 'ninhBinh', 'quangNinh', 'thaiBinh',\n",
      "       'thanhHoa', 'vinhPhuc'], dtype='<U9')\n",
      " array(['binhDinh', 'daNang', 'hue', 'khanhHoa', 'ninhThuan', 'phuYen',\n",
      "       'quangBinh', 'quangNam', 'quangNgai', 'quangTri'], dtype='<U9')\n",
      " array(['dakLak', 'dakNong', 'giaLai', 'konTum'], dtype='<U7')\n",
      " array(['binhDuong', 'binhPhuoc', 'binhThuan', 'dongNai', 'hoChiMinh',\n",
      "       'lamDong', 'tayNinh', 'vungTau'], dtype='<U9')]\n"
     ]
    }
   ],
   "source": [
    "for i, a in enumerate(areas):\n",
    "    areas[i] = np.unique(a)\n",
    "print(areas)"
   ]
  },
  {
   "cell_type": "code",
   "execution_count": null,
   "metadata": {},
   "outputs": [],
   "source": []
  }
 ],
 "metadata": {
  "kernelspec": {
   "display_name": "Python 3",
   "language": "python",
   "name": "python3"
  },
  "language_info": {
   "codemirror_mode": {
    "name": "ipython",
    "version": 3
   },
   "file_extension": ".py",
   "mimetype": "text/x-python",
   "name": "python",
   "nbconvert_exporter": "python",
   "pygments_lexer": "ipython3",
   "version": "3.6.9"
  }
 },
 "nbformat": 4,
 "nbformat_minor": 2
}
