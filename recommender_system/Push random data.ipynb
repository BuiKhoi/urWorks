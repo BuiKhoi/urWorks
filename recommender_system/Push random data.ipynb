{
 "cells": [
  {
   "cell_type": "code",
   "execution_count": 5,
   "metadata": {},
   "outputs": [],
   "source": [
    "import requests\n",
    "import os\n",
    "import json\n",
    "import numpy as np\n",
    "import random"
   ]
  },
  {
   "cell_type": "code",
   "execution_count": 2,
   "metadata": {},
   "outputs": [],
   "source": [
    "hiring_firebase = 'https://hackathon-2020-9448d.firebaseio.com/posts_data/hiring'\n",
    "finding_firebase = 'https://hackathon-2020-9448d.firebaseio.com/posts_data/finding'"
   ]
  },
  {
   "cell_type": "code",
   "execution_count": 71,
   "metadata": {},
   "outputs": [],
   "source": [
    "def post_to_firebase(base_link, postid, content):\n",
    "#     print(content)\n",
    "    r = requests.put(base_link + '/' + postid + '.json', json.dumps(content))\n",
    "    return r"
   ]
  },
  {
   "cell_type": "code",
   "execution_count": 12,
   "metadata": {},
   "outputs": [],
   "source": [
    "with open('./data/firebase_posts/names.txt', 'r') as names_file:\n",
    "    names = names_file.read()\n",
    "names = names.split('\\n')\n",
    "random.shuffle(names)"
   ]
  },
  {
   "cell_type": "code",
   "execution_count": 67,
   "metadata": {},
   "outputs": [],
   "source": [
    "with open('./data/firebase_posts/ava_links.txt', 'r') as avatar_files:\n",
    "    avas = avatar_files.read()\n",
    "avas = avas.split('\\n')\n",
    "avas.remove('')"
   ]
  },
  {
   "cell_type": "code",
   "execution_count": 13,
   "metadata": {},
   "outputs": [],
   "source": [
    "labels_dir = './data/firebase_posts/titles/'"
   ]
  },
  {
   "cell_type": "code",
   "execution_count": 17,
   "metadata": {
    "scrolled": true
   },
   "outputs": [],
   "source": [
    "#Filter the label datas\n",
    "for txt_file in os.listdir(labels_dir):\n",
    "    if '_label' in txt_file:\n",
    "        if not os.path.exists(labels_dir + txt_file.replace('_label', '')):\n",
    "            os.remove(labels_dir + txt_file)"
   ]
  },
  {
   "cell_type": "code",
   "execution_count": 27,
   "metadata": {},
   "outputs": [],
   "source": [
    "label_dict = {'ban_hang': 0, 'bao_ve': 1, 'bep': 2, 'cong_nhan': 3, 'giao_vien': 4, 'giup_viec': 5, 'huong_dan_vien_du_lich': 6, 'ke_toan': 7, 'ky_su': 8, 'lai_xe': 9, 'nhan_vien': 10, 'pha_che': 11, 'phien_dich': 12, 'phuc_vu': 13, 'quan_ly': 14, 'sale_online': 15, 'tho_lap_may': 16, 'tho_xay': 17, 'thoi_vu': 18, 'tro_ly': 19, 'y_te': 20}"
   ]
  },
  {
   "cell_type": "code",
   "execution_count": 44,
   "metadata": {},
   "outputs": [],
   "source": [
    "def get_hot_encode(label):\n",
    "    hot_encode = [0] * len(label_dict)\n",
    "    for l in label:\n",
    "        hot_encode[label_dict[l]] = 1\n",
    "    strr = ''\n",
    "    for e in hot_encode:\n",
    "        strr += str(e)\n",
    "    return strr"
   ]
  },
  {
   "cell_type": "code",
   "execution_count": 36,
   "metadata": {},
   "outputs": [],
   "source": [
    "class PostAttribute:\n",
    "    def __init__(self, title, label, names, avas):\n",
    "        self.title = title\n",
    "        self.label = get_hot_encode(label)\n",
    "        self.pick_info(names, avas)\n",
    "        \n",
    "    def pick_info(self, names, avas):\n",
    "        self.name = random.choice(names)\n",
    "        self.ava = random.choice(avas)"
   ]
  },
  {
   "cell_type": "code",
   "execution_count": 68,
   "metadata": {},
   "outputs": [],
   "source": [
    "articles = []\n",
    "for txt_file in os.listdir(labels_dir):\n",
    "    if '_label' not in txt_file:\n",
    "        with open(labels_dir + txt_file, 'r') as file_read:\n",
    "            article = file_read.read()\n",
    "            title = article\n",
    "            \n",
    "        with open(labels_dir + txt_file.replace('.txt', '_label.txt'), 'r') as file_read:\n",
    "            label = file_read.read()\n",
    "            label = label.replace(' ', '').split('\\n')[:-1]\n",
    "        \n",
    "        articles.append(PostAttribute(title, label, names, avas))"
   ]
  },
  {
   "cell_type": "code",
   "execution_count": 42,
   "metadata": {},
   "outputs": [],
   "source": [
    "def get_data_from_fb(firebase_link):\n",
    "    r = requests.get(firebase_link + '.json')\n",
    "    return json.loads(r.content)\n",
    "\n",
    "finding_jobs = get_data_from_fb('https://hackathon-2020-9448d.firebaseio.com/data_matrix/finding')"
   ]
  },
  {
   "cell_type": "code",
   "execution_count": 69,
   "metadata": {},
   "outputs": [],
   "source": [
    "def calculate_score(job, label):\n",
    "    njob = job.split('x')[0]\n",
    "    sum = 0\n",
    "    for n, l in zip(njob, label):\n",
    "        sum += abs(int(n) - int(l))\n",
    "    return sum"
   ]
  },
  {
   "cell_type": "code",
   "execution_count": 72,
   "metadata": {},
   "outputs": [],
   "source": [
    "for find_id, job in zip(finding_jobs.keys(), finding_jobs.values()):\n",
    "    count = 0\n",
    "    while count < 100:\n",
    "        article = random.choice(articles)\n",
    "        score = calculate_score(job, article.label)\n",
    "        if score < 3:\n",
    "            break\n",
    "        else:\n",
    "            count += 1\n",
    "    post_to_firebase(finding_firebase, find_id, {'image': article.ava, 'name': article.name, 'title': article.title})"
   ]
  },
  {
   "cell_type": "code",
   "execution_count": null,
   "metadata": {},
   "outputs": [],
   "source": []
  }
 ],
 "metadata": {
  "kernelspec": {
   "display_name": "Python 3",
   "language": "python",
   "name": "python3"
  },
  "language_info": {
   "codemirror_mode": {
    "name": "ipython",
    "version": 3
   },
   "file_extension": ".py",
   "mimetype": "text/x-python",
   "name": "python",
   "nbconvert_exporter": "python",
   "pygments_lexer": "ipython3",
   "version": "3.6.9"
  }
 },
 "nbformat": 4,
 "nbformat_minor": 2
}
